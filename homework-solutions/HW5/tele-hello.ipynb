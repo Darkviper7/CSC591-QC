{
 "cells": [
  {
   "cell_type": "markdown",
   "id": "5569cf82",
   "metadata": {},
   "source": [
    "# 1. TELEPORTATION\n",
    "Name: Sai Krishna Teja Varma Manthena\\\n",
    "UnityId: smanthe"
   ]
  },
  {
   "cell_type": "code",
   "execution_count": 1,
   "id": "32afe87e",
   "metadata": {},
   "outputs": [],
   "source": [
    "import numpy as np\n",
    "from qiskit import QuantumCircuit, QuantumRegister, ClassicalRegister\n",
    "from qiskit import IBMQ, Aer, transpile, assemble, execute"
   ]
  },
  {
   "cell_type": "code",
   "execution_count": 2,
   "id": "545e93ac",
   "metadata": {},
   "outputs": [],
   "source": [
    "#function to convert string to a list of bits\n",
    "def stringToBitList(s):\n",
    "     ords = (ord(c) for c in s)\n",
    "     shifts = (7, 6, 5, 4, 3, 2, 1, 0)\n",
    "     return [(o >> shift) & 1 for o in ords for shift in shifts]\n",
    " \n",
    "#function to convert list of bits to subsequent characters\n",
    "def bitlistToCharacters(bl):\n",
    "     bi = iter(bl)\n",
    "     bytes = zip(*(bi,) * 8)\n",
    "     shifts = (7, 6, 5, 4, 3, 2, 1, 0)\n",
    "     for byte in bytes:\n",
    "         yield chr(sum(bit << s for bit, s in zip(byte, shifts)))\n",
    " \n",
    "#function to convert list of bits to the string\n",
    "def bitlistToString(bl):\n",
    "     return ''.join(bitlistToCharacters(bl))"
   ]
  },
  {
   "cell_type": "code",
   "execution_count": 3,
   "id": "13dba878",
   "metadata": {},
   "outputs": [],
   "source": [
    "def bellPair(circ, a, b):\n",
    "    circ.h(a) \n",
    "    circ.cx(a,b) \n",
    "\n",
    "def gatesAlice(circ, a, b):\n",
    "    circ.cx(a, b)\n",
    "    circ.h(a)\n",
    "\n",
    "def gatesBob(circ, qubit, crz, crx):\n",
    "    circ.x(qubit).c_if(crx, 1)  \n",
    "    circ.z(qubit).c_if(crz, 1) "
   ]
  },
  {
   "cell_type": "code",
   "execution_count": 4,
   "id": "82ca285c",
   "metadata": {},
   "outputs": [],
   "source": [
    "def compute_teleportation(b):\n",
    "    sim = Aer.get_backend('qasm_simulator')\n",
    "    sol = []\n",
    "    for i in b:\n",
    "        q = QuantumRegister(3, name=\"q\")\n",
    "        crz, crx = ClassicalRegister(1, name=\"crz\"), ClassicalRegister(1, name=\"crx\")\n",
    "        teleportation_circ = QuantumCircuit(q, crz, crx)\n",
    "        cr_result = ClassicalRegister(1)\n",
    "        teleportation_circ.add_register(cr_result)\n",
    "        \n",
    "        if i == 1:\n",
    "            teleportation_circ.x(0)\n",
    "        bellPair(teleportation_circ, 1, 2)\n",
    "\n",
    "        teleportation_circ.barrier()\n",
    "        gatesAlice(teleportation_circ, 0, 1)\n",
    "\n",
    "        teleportation_circ.barrier()\n",
    "        teleportation_circ.measure(0,0)\n",
    "        teleportation_circ.measure(1,1)\n",
    "\n",
    "\n",
    "        teleportation_circ.barrier()\n",
    "        gatesBob(teleportation_circ, 2, crz, crx)\n",
    "        \n",
    "        teleportation_circ.measure(2, 2)\n",
    "        \n",
    "        result = execute(teleportation_circ, backend=sim, shots=1).result()\n",
    "        counts = result.get_counts()\n",
    "        \n",
    "        sol.append(int(list(counts.keys())[0][0]))\n",
    "    return sol"
   ]
  },
  {
   "cell_type": "code",
   "execution_count": 5,
   "id": "4d30dab0",
   "metadata": {},
   "outputs": [
    {
     "name": "stdout",
     "output_type": "stream",
     "text": [
      "Input by Alice (string):\n",
      "Hello, quantum\n",
      "Hello, quantum\n"
     ]
    }
   ],
   "source": [
    "s = input(\"Input by Alice (string):\\n\")\n",
    "b = stringToBitList(s)\n",
    "sol = compute_teleportation(b)\n",
    "print(bitlistToString(sol))"
   ]
  }
 ],
 "metadata": {
  "kernelspec": {
   "display_name": "Python 3 (ipykernel)",
   "language": "python",
   "name": "python3"
  },
  "language_info": {
   "codemirror_mode": {
    "name": "ipython",
    "version": 3
   },
   "file_extension": ".py",
   "mimetype": "text/x-python",
   "name": "python",
   "nbconvert_exporter": "python",
   "pygments_lexer": "ipython3",
   "version": "3.9.12"
  }
 },
 "nbformat": 4,
 "nbformat_minor": 5
}
