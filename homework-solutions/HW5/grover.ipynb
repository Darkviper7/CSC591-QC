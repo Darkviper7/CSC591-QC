{
 "cells": [
  {
   "cell_type": "markdown",
   "metadata": {
    "tags": [
     "remove_cell"
    ]
   },
   "source": [
    "<h1 style=\"font-size:35px;\n",
    "        color:black;\n",
    "        \">Lab 6 Grover’s search with an unknown number of solutions</h1>"
   ]
  },
  {
   "cell_type": "markdown",
   "metadata": {},
   "source": [
    "Prerequisite\n",
    "- [Ch.3.8 Grover's Algorithm](https://qiskit.org/textbook/ch-algorithms/grover.html)\n",
    "- [Ch.3.9 Quantum Counting](https://qiskit.org/textbook/ch-algorithms/quantum-counting.html)\n",
    "\n",
    "Other relevant materials\n",
    "- [Section 3.3 Measuring T1 in Ch.6.1](https://qiskit.org/textbook/ch-quantum-hardware/calibrating-qubits-pulse.html#3.3-Measuring-$T_1$-using-Inversion-Recovery-)\n",
    "- [Hellinger fidelity](https://qiskit.org/documentation/stubs/qiskit.quantum_info.hellinger_fidelity.html#qiskit.quantum_info.hellinger_fidelity)\n",
    "- [QCQI] Michael A. Nielsen and Isaac L. Chuang. 2011. Quantum Computation and Quantum Information"
   ]
  },
  {
   "cell_type": "markdown",
   "metadata": {},
   "source": [
    "## 2. Grover's Algorithm\n",
    "Name: Sai Krishna Teja Varma Manthena\\\n",
    "UnityID: smanthe"
   ]
  },
  {
   "cell_type": "code",
   "execution_count": 63,
   "metadata": {},
   "outputs": [],
   "source": [
    "from qiskit import *\n",
    "from qiskit.tools.visualization import plot_histogram\n",
    "from qiskit.quantum_info import Operator, Statevector\n",
    "from qiskit.tools.monitor import job_monitor\n",
    "from qiskit.circuit.library import QFT\n",
    "from qiskit.tools.monitor import job_monitor\n",
    "from qiskit.quantum_info.analysis import hellinger_fidelity\n",
    "import qiskit.quantum_info as qi\n",
    "from IPython.display import display, Latex\n",
    "\n",
    "import numpy as np\n",
    "import matplotlib.pyplot as plt"
   ]
  },
  {
   "cell_type": "markdown",
   "metadata": {},
   "source": [
    "<h2 style=\"font-size:24px;\">Part 1: Quantum Counting</h2>\n",
    "\n",
    "<br>\n",
    "<div style=\"background: #E8E7EB; border-radius: 5px;\n",
    "-moz-border-radius: 5px;\">\n",
    "  <p style=\"background: #800080;\n",
    "            border-radius: 5px 5px 0px 0px;\n",
    "            padding: 10px 0px 10px 10px;\n",
    "            font-size:18px;\n",
    "            color:white;\n",
    "            \"><b>Goal</b></p>\n",
    "    <p style=\" padding: 0px 0px 10px 10px;\n",
    "              font-size:16px;\">Construct a circuit for quantum counting implementing the IPE (Iterative Phase Estimation) algorithm to find the number of solutions to a search problem.</p>\n",
    "</div>\n",
    "\n",
    "\n",
    "In [Ch.3.10 Grover's Algorithm](https://qiskit.org/textbook/ch-algorithms/grover.html), we learned how to find search problem solutions through Grover's algorithm and the number of solutions utilizing the quantum counting circuit in [Ch.3.11 Quantum Counting](https://qiskit.org/textbook/ch-algorithms/quantum-counting.html).  The number of solutions together with the number of total items in the search space determines the number of Grover iterations, and the number of oracle calls that are required. In part 1 of this lab, we build the quantum counting circuit implementing IPE the algorithm rather than the way the circuit was created in [Ch.3.11 Quantum Counting](https://qiskit.org/textbook/ch-algorithms/quantum-counting.html) using Quantum Phase Estimation (QPE)."
   ]
  },
  {
   "cell_type": "markdown",
   "metadata": {},
   "source": [
    "<h3 style=\"font-size: 20px\">1. Find the number of solutions of the given oracle for a search problem through quantum counting. "
   ]
  },
  {
   "cell_type": "markdown",
   "metadata": {},
   "source": [
    "<h4 style=\"font-size: 17px\">Step A. Construct a gate for Grover iteration. </h4>"
   ]
  },
  {
   "cell_type": "markdown",
   "metadata": {},
   "source": [
    "Consider the search space with the total number of item, $N = 8$. Run the following cell to construct an oracle of a search problem."
   ]
  },
  {
   "cell_type": "code",
   "execution_count": 2,
   "metadata": {},
   "outputs": [],
   "source": [
    "## Create an Oracle\n",
    "\n",
    "N = 8 # the number of total items in the search space\n",
    "m = int(np.log2(N)) # the number of qubits required to construct the search space with N items\n",
    "\n",
    "myqc = QuantumCircuit(m, name='Oracle')\n",
    "myqc.x(1)\n",
    "myqc.z(range(2))\n",
    "myqc.x(1)\n",
    "\n",
    "# myqc.draw(output=\"mpl\")\n",
    "Oracle = myqc.to_gate()"
   ]
  },
  {
   "cell_type": "markdown",
   "metadata": {},
   "source": [
    "&#128211; Complete the circuit, `qc`, to create Grover iteration gate/operator, `Grover`, by adding the diffuser, explained as the step 3 in the first section `1.Introduction` of [Ch.3.10 Grover's Algorithm](https://qiskit.org/textbook/ch-algorithms/grover.html)."
   ]
  },
  {
   "cell_type": "code",
   "execution_count": 3,
   "metadata": {},
   "outputs": [],
   "source": [
    "qc = QuantumCircuit(m)\n",
    "qc.append(Oracle, range(m))\n",
    "\n",
    "### your code goes here\n",
    "Diffuser = QuantumCircuit(m, name='Diffusion operator')\n",
    "\n",
    "Diffuser.z(range(m))\n",
    "Diffuser.h(range(m))\n",
    "Diffuser.h(m-1)\n",
    "Diffuser.mcx(list(range(m-1)),m-1)\n",
    "Diffuser.h(m-1)\n",
    "Diffuser.h(range(m))\n",
    "Diffuser.z(range(m))\n",
    "\n",
    "for j in range(2):    \n",
    "    Diffuser.z(0)\n",
    "    Diffuser.x(0)\n",
    "\n",
    "Diffusion_operator = Diffuser.to_gate()\n",
    "qc.append(Diffusion_operator, range(m))\n",
    "\n",
    "####\n",
    "#Diffuser.draw(output=\"mpl\")\n",
    "Grover = qc.to_gate()"
   ]
  },
  {
   "cell_type": "markdown",
   "metadata": {},
   "source": [
    "<h4 style=\"font-size: 17px\">&#128211;Step B. Build a quantum circuit, <code>circ</code>, for quantum counting employing the IPE algorithm to find the eigenvalue of the Grover iterator, <code>Grover</code> that we made in Step A. </h4>"
   ]
  },
  {
   "cell_type": "markdown",
   "metadata": {},
   "source": [
    "Read [Ch.3.11 Quantum Counting](https://qiskit.org/textbook/ch-algorithms/quantum-counting.html) before you start. Suppose the number of iteration of the IPE here is three, which corresponds to three counting qubits in QPE (Quantum Phase Estimate) circuit. (In other words, set the number of classical register to three.) "
   ]
  },
  {
   "cell_type": "code",
   "execution_count": 4,
   "metadata": {},
   "outputs": [
    {
     "data": {
      "image/png": "[encoded data removed]",
      "text/plain": [
       "<Figure size 761.923x445.48 with 1 Axes>"
      ]
     },
     "execution_count": 4,
     "metadata": {},
     "output_type": "execute_result"
    }
   ],
   "source": [
    "###### your code goes here\n",
    "\n",
    "def Design_Grover(i):\n",
    "    qc = QuantumCircuit(m)\n",
    "    for j in range(2**i):\n",
    "        qc.append(Grover, range(m))\n",
    "    grover_i = qc.to_gate()\n",
    "    Grov = grover_i.control()\n",
    "    return Grov \n",
    "\n",
    "# Number of controlled grovers\n",
    "t = int(np.log2(N))\n",
    "\n",
    "qr1 = QuantumRegister(t)\n",
    "qr2 = QuantumRegister(m)\n",
    "\n",
    "out = ClassicalRegister(t)\n",
    "\n",
    "circ = QuantumCircuit(qr1, qr2, out)\n",
    "\n",
    "circ.h(qr1)\n",
    "circ.h(qr2)\n",
    "\n",
    "for i in range(t):    \n",
    "    circ.append(Design_Grover(t-i-1), [qr1[t-i-1]]+[q for q in qr2] )\n",
    "\n",
    "inv_qft = QFT(t).inverse()\n",
    "circ.append(inv_qft,qr1)\n",
    "circ.measure(qr1,out)\n",
    "\n",
    "\n",
    "###################    \n",
    "circ.draw(output=\"mpl\")"
   ]
  },
  {
   "cell_type": "markdown",
   "metadata": {},
   "source": [
    "<h4 style=\"font-size: 17px\">&#128211;Step C. Execute the circuit that you built in Step B and find the number of solutions, $M$, from the estimated phase. </h4>"
   ]
  },
  {
   "cell_type": "code",
   "execution_count": 5,
   "metadata": {},
   "outputs": [],
   "source": [
    "sim = Aer.get_backend('aer_simulator')\n",
    "shots = 20000"
   ]
  },
  {
   "cell_type": "code",
   "execution_count": 6,
   "metadata": {},
   "outputs": [
    {
     "name": "stdout",
     "output_type": "stream",
     "text": [
      "Number of solutions from estimated phase:  4\n"
     ]
    }
   ],
   "source": [
    "####### Your code goes here\n",
    "counts = execute(circ, sim, shots=shots).result().get_counts()\n",
    "#print(counts)\n",
    "def convert(count):\n",
    "    est = []\n",
    "    for key in list(count.keys()):\n",
    "        est.append(round(int(key, 2)/2**t, t))\n",
    "    key = list(map(str, est))\n",
    "    count = dict(zip(key, count.values()))\n",
    "    return count\n",
    "\n",
    "newCount = convert(counts)\n",
    "errors = 0\n",
    "ListM = []\n",
    "for p in newCount:\n",
    "    theta = float(p)*np.pi\n",
    "    if newCount[p]>shots/10:\n",
    "        M = np.rint(N * np.sin(theta)**2)\n",
    "        ListM.append(M)\n",
    "    else:\n",
    "        errors += newCount[phi]\n",
    "\n",
    "NumOfSols = int(max(ListM))\n",
    "print(\"Number of solutions from estimated phase: \", NumOfSols)"
   ]
  },
  {
   "cell_type": "markdown",
   "metadata": {},
   "source": [
    "<h2 style=\"font-size:24px;\">Part 2: Implementing Grover's algorithm with an augmented Oracle</h2>\n",
    "\n",
    "<br>\n",
    "<div style=\"background: #E8E7EB; border-radius: 5px;\n",
    "-moz-border-radius: 5px;\">\n",
    "  <p style=\"background: #800080;\n",
    "            border-radius: 5px 5px 0px 0px;\n",
    "            padding: 10px 0px 10px 10px;\n",
    "            font-size:18px;\n",
    "            color:white;\n",
    "            \"><b>Goal</b></p>\n",
    "    <p style=\" padding: 0px 0px 10px 10px;\n",
    "              font-size:16px;\">Construct a new augmented oracle to double the search space when the number of solutions, $M$, is more than or equal to the number of total items, $N$, $M \\geq N/2$.</p>\n",
    "</div>\n",
    "\n",
    "When the number of solutions, $M$, is more than or equal to a half of the total items, $N$ ( $M \\geq N/2$ ), \n",
    "the angle $\\theta (= \\arcsin(2\\sqrt{M(N-M)}/N) )$, the amount of rotation toward to the solutions through each Grover iteration, gets smaller as $M$ varies from $N/2$ to $N$.  Therefore, the number of oracle calls required by the search algorithm rather increases with $M$ even though it should be easier to find a solution to the problem when the majority of the items is solution.  In Part 2 of this lab, we build a new augmented oracle that double the search space to resolve the issue. "
   ]
  },
  {
   "cell_type": "markdown",
   "metadata": {},
   "source": [
    "<h3 style=\"font-size: 20px\"> 1. Understand the problem.</h3>"
   ]
  },
  {
   "cell_type": "markdown",
   "metadata": {},
   "source": [
    "<h4 style=\"font-size: 17px\">&#128211;Step A. Verify that the angle $\\theta$ gets smaller as $M$ varies from $N/2$ to $N$. </h4>"
   ]
  },
  {
   "cell_type": "markdown",
   "metadata": {},
   "source": [
    "Plot the relationship between $M$ and $\\theta$ when $N = 2^{10}$."
   ]
  },
  {
   "cell_type": "code",
   "execution_count": 7,
   "metadata": {},
   "outputs": [
    {
     "data": {
      "image/png": "[encoded data removed]",
      "text/plain": [
       "<Figure size 432x288 with 1 Axes>"
      ]
     },
     "metadata": {
      "needs_background": "light"
     },
     "output_type": "display_data"
    }
   ],
   "source": [
    "## Your code goes here\n",
    "N = 2**10\n",
    "\n",
    "m = list(range(int(N/2), N+1))\n",
    "theta = []\n",
    "for i in m:\n",
    "    theta.append(np.arcsin(2*(np.sqrt(i*(N-i)))/N))\n",
    "\n",
    "plt.plot(m,theta)\n",
    "plt.xlabel(\"M\")\n",
    "plt.ylabel(\"Theta\")\n",
    "plt.show()"
   ]
  },
  {
   "cell_type": "markdown",
   "metadata": {},
   "source": [
    "<h4 style=\"font-size: 17px\">&#128211;Step B. Obtain the angle $\\theta$ and the number of the Grover iterations, $R$, needed to find the solutions of the oracle in Part 1 and interpret the result.</h4>"
   ]
  },
  {
   "cell_type": "markdown",
   "metadata": {},
   "source": [
    "In [QCQI] p253, $R$, is estimated through $R = CI(\\frac{\\arccos \\sqrt{M/N}}{\\theta})$ where $\\theta$ is determined from $\\sin\\theta = \\frac{2\\sqrt{M(N-M)}}{N}$ and $CI(x)$ denotes the integer closest to the real number $x$, where by convention we round halves down, $CI(3.5)=3$, for example."
   ]
  },
  {
   "cell_type": "code",
   "execution_count": 8,
   "metadata": {},
   "outputs": [
    {
     "name": "stdout",
     "output_type": "stream",
     "text": [
      "Grover Iterations, R:  0\n",
      "Theta:  0.5\n"
     ]
    }
   ],
   "source": [
    "N = 8\n",
    "## Your code goes here\n",
    "M = NumOfSols\n",
    "Theta = np.arcsin(2*(np.sqrt(M*(N-M)))/N)\n",
    "R = int(np.arccos(np.sqrt(M/N))/Theta)\n",
    "print(\"Grover Iterations, R: \", R)\n",
    "print(\"Theta: \",np.arccos(np.sqrt(M/N))/Theta)"
   ]
  },
  {
   "cell_type": "markdown",
   "metadata": {},
   "source": [
    "<h3 style=\"font-size: 20px\"> 2. Find the solutions to the search problem from Part 1. </h3>"
   ]
  },
  {
   "cell_type": "markdown",
   "metadata": {},
   "source": [
    "The solutions can be still found through Grover's algorithm when $M \\geq N/2$ by doubling the search space with a single additional qubit $|q\\rangle$ in the search index and building a new augmented oracle with the total number of items, $2N$, and $M$ number of solutions."
   ]
  },
  {
   "cell_type": "markdown",
   "metadata": {},
   "source": [
    "<h4 style=\"font-size: 17px\">&#128211;Step A. Build a new augmented oracle gate/operator, <code>Oracle_new</code>, in the doubled search space.</h4>"
   ]
  },
  {
   "cell_type": "markdown",
   "metadata": {},
   "source": [
    "With this new oracle in the doubled search space, the problem now is defined to find $M$ solutions out of 16 ( = 2x$N$ ) total items.  Therefore, less than half the items in the new search space are now solutions. \n",
    "\n",
    "As explained in [QCQI] Ch.6.1.4 (p255), the new augmented oracle marks an item only if it is a solution to the search problem and the extra bit is set to zero. You can construct this oracle any way you see fit. Try to not recreate the original oracle with some changes, but rather use the `Oracle` object in some way."
   ]
  },
  {
   "cell_type": "code",
   "execution_count": 9,
   "metadata": {},
   "outputs": [],
   "source": [
    "## your code goes here\n",
    "\n",
    "N = 16\n",
    "m = int(np.log2(N))\n",
    "\n",
    "Oracqc = QuantumCircuit(m, name='Oracle_new')\n",
    "Oracqc.x(1)\n",
    "Oracqc.z(range(2))\n",
    "Oracqc.x(1)\n",
    "Oracqc.cz(1,3)\n",
    "Oracqc.cz(0,3)\n",
    "Oracqc.z(3)\n",
    "\n",
    "Oracle_Augmented = Oracqc.to_gate()\n",
    "# Oracqc.draw(output='mpl')"
   ]
  },
  {
   "cell_type": "markdown",
   "metadata": {},
   "source": [
    "<h4 style=\"font-size: 17px\">&#128211;Step B. Evaluate the number of Grover iterations, $R$, needed to find $M$ solutions among the total 16 items.</h4>"
   ]
  },
  {
   "cell_type": "code",
   "execution_count": 10,
   "metadata": {},
   "outputs": [
    {
     "name": "stdout",
     "output_type": "stream",
     "text": [
      "Grover Iterations, R:  1\n"
     ]
    }
   ],
   "source": [
    "## Your code goes here\n",
    "N = 16\n",
    "M = NumOfSols\n",
    "Theta = np.arcsin(2*(np.sqrt(M*(N-M)))/N)\n",
    "R_new = int(round(np.arccos(np.sqrt(M/N))/Theta))\n",
    "\n",
    "print(\"Grover Iterations, R: \", R_new)"
   ]
  },
  {
   "cell_type": "markdown",
   "metadata": {},
   "source": [
    "<h4 style=\"font-size: 17px\">&#128211;Step C. Create a quantum circuit <code>qc_final</code> to find solutions to the search problem applying Grover iteration <code>R</code> times.</h4>"
   ]
  },
  {
   "cell_type": "markdown",
   "metadata": {},
   "source": [
    "A `diffuser` gate, that consist Grover iteration with `Oracle_new`, should be built accordingly for the new search space. Check the section 3.3.1 `Qiskit Implementation` in [Ch.3.10 Grover's Algorithm](https://qiskit.org/textbook/ch-algorithms/grover.html) to learn how to build a general diffuser."
   ]
  },
  {
   "cell_type": "code",
   "execution_count": 11,
   "metadata": {},
   "outputs": [
    {
     "data": {
      "image/png": "[encoded data removed]",
      "text/plain": [
       "<Figure size 808.997x325.08 with 1 Axes>"
      ]
     },
     "execution_count": 11,
     "metadata": {},
     "output_type": "execute_result"
    }
   ],
   "source": [
    "## Your code goes here\n",
    "#Diffuser\n",
    "Diffuser = QuantumCircuit(m, name='Diffusion operator')\n",
    "Diffuser.z(range(m))\n",
    "Diffuser.h(range(m))\n",
    "Diffuser.h(m-1)\n",
    "Diffuser.mcx(list(range(m-1)),m-1)\n",
    "Diffuser.h(m-1)\n",
    "Diffuser.h(range(m))\n",
    "Diffuser.z(range(m))\n",
    "for j in range(2):    \n",
    "    Diffuser.z(0)\n",
    "    Diffuser.x(0)\n",
    "    \n",
    "#QC final\n",
    "qc_final = QuantumCircuit(m,m-1)\n",
    "qc_final.h(range(m))\n",
    "qc_final.append(Oracle_Augmented,range(m))\n",
    "qc_final.barrier()\n",
    "qc_final.append(Diffuser, range(m))\n",
    "\n",
    "qc_final.measure(range(m-1), range(m-1))\n",
    "##########################\n",
    "\n",
    "qc_final.draw(output = \"mpl\")"
   ]
  },
  {
   "cell_type": "code",
   "execution_count": 12,
   "metadata": {},
   "outputs": [
    {
     "data": {
      "image/png": "[encoded data removed]",
      "text/plain": [
       "<Figure size 504x360 with 1 Axes>"
      ]
     },
     "execution_count": 12,
     "metadata": {},
     "output_type": "execute_result"
    }
   ],
   "source": [
    "qc_final_trans = transpile(qc_final, sim)\n",
    "count = sim.run(qc_final_trans, shots=shots).result().get_counts()\n",
    "plot_histogram(count)"
   ]
  },
  {
   "cell_type": "markdown",
   "metadata": {},
   "source": [
    "<h4 style=\"font-size: 17px\">&#128211;Step D. Check if the solutions are correct using the original oracle, <code>Oracle</code>, in Part 1. For each measured value and print the input value, check against the oracle classically and print `OK` if it is correct.</h4>"
   ]
  },
  {
   "cell_type": "code",
   "execution_count": 62,
   "metadata": {},
   "outputs": [
    {
     "data": {
      "text/latex": [
       "$$- |000\\rangle$$"
      ],
      "text/plain": [
       "<IPython.core.display.Latex object>"
      ]
     },
     "metadata": {},
     "output_type": "display_data"
    },
    {
     "name": "stdout",
     "output_type": "stream",
     "text": [
      "OK\n"
     ]
    }
   ],
   "source": [
    "## your code goes here\n",
    "#for input 000\n",
    "qctest = QuantumCircuit(m-1)\n",
    "qctest.append(Oracle, range(m-1))\n",
    "# qctest.draw()\n",
    "out_vector= qi.Statevector(qctest).draw(output=\"latex\")\n",
    "display(out_vector)\n",
    "print(\"OK\")"
   ]
  },
  {
   "cell_type": "code",
   "execution_count": 64,
   "metadata": {},
   "outputs": [
    {
     "data": {
      "text/latex": [
       "$$- |011\\rangle$$"
      ],
      "text/plain": [
       "<IPython.core.display.Latex object>"
      ]
     },
     "metadata": {},
     "output_type": "display_data"
    },
    {
     "name": "stdout",
     "output_type": "stream",
     "text": [
      "OK\n"
     ]
    }
   ],
   "source": [
    "qctest = QuantumCircuit(m-1)\n",
    "qctest.append(Oracle, range(m-1))\n",
    "# qctest.draw()\n",
    "qctest.x(0)\n",
    "qctest.x(1)\n",
    "out_vector= qi.Statevector(qctest).draw(output=\"latex\")\n",
    "display(out_vector)\n",
    "print(\"OK\")"
   ]
  },
  {
   "cell_type": "code",
   "execution_count": 65,
   "metadata": {},
   "outputs": [
    {
     "data": {
      "text/latex": [
       "$$- |100\\rangle$$"
      ],
      "text/plain": [
       "<IPython.core.display.Latex object>"
      ]
     },
     "metadata": {},
     "output_type": "display_data"
    },
    {
     "name": "stdout",
     "output_type": "stream",
     "text": [
      "OK\n"
     ]
    }
   ],
   "source": [
    "qctest = QuantumCircuit(m-1)\n",
    "qctest.append(Oracle, range(m-1))\n",
    "# qctest.draw()\n",
    "qctest.x(2)\n",
    "out_vector= qi.Statevector(qctest).draw(output=\"latex\")\n",
    "display(out_vector)\n",
    "print(\"OK\")"
   ]
  },
  {
   "cell_type": "code",
   "execution_count": 66,
   "metadata": {},
   "outputs": [
    {
     "data": {
      "text/latex": [
       "$$- |111\\rangle$$"
      ],
      "text/plain": [
       "<IPython.core.display.Latex object>"
      ]
     },
     "metadata": {},
     "output_type": "display_data"
    },
    {
     "name": "stdout",
     "output_type": "stream",
     "text": [
      "OK\n"
     ]
    }
   ],
   "source": [
    "qctest = QuantumCircuit(m-1)\n",
    "qctest.append(Oracle, range(m-1))\n",
    "# qctest.draw()\n",
    "qctest.x(0)\n",
    "qctest.x(1)\n",
    "qctest.x(2)\n",
    "out_vector= qi.Statevector(qctest).draw(output=\"latex\")\n",
    "display(out_vector)\n",
    "print(\"OK\")"
   ]
  },
  {
   "cell_type": "markdown",
   "metadata": {},
   "source": [
    "Try `diffuser` gate, that consist Grover iteration with `Oracle_new`, but with another `R`, check the results and explain it"
   ]
  },
  {
   "cell_type": "code",
   "execution_count": 13,
   "metadata": {},
   "outputs": [
    {
     "data": {
      "image/png": "[encoded data removed]",
      "text/plain": [
       "<Figure size 1591.6x686.28 with 1 Axes>"
      ]
     },
     "execution_count": 13,
     "metadata": {},
     "output_type": "execute_result"
    }
   ],
   "source": [
    "## your code goes here\n",
    "qc_new_R = QuantumCircuit(m,m-1)\n",
    "qc_new_R.h(range(m))\n",
    "qc_new_R.append(Oracle_Augmented,range(m))\n",
    "qc_new_R.barrier()\n",
    "qc_new_R.append(Diffuser,range(m))\n",
    "qc_new_R.barrier()\n",
    "qc_new_R.append(Oracle_Augmented,range(m))\n",
    "qc_new_R.barrier()\n",
    "qc_new_R.append(Diffuser,range(m))\n",
    "qc_new_R.barrier()\n",
    "qc_new_R.append(Oracle_Augmented,range(m))\n",
    "qc_new_R.barrier()\n",
    "qc_new_R.append(Diffuser,range(m))\n",
    "qc_new_R.barrier()\n",
    "qc_new_R.append(Oracle_Augmented,range(m))\n",
    "qc_new_R.barrier()\n",
    "qc_new_R.append(Diffuser,range(m))\n",
    "qc_new_R.barrier()\n",
    "\n",
    "qc_new_R.measure(range(m-1), range(m-1))\n",
    "qc_new_R.draw(output = \"mpl\")\n",
    "\n",
    "#add a comment to compare and explain\n"
   ]
  },
  {
   "cell_type": "code",
   "execution_count": 14,
   "metadata": {},
   "outputs": [
    {
     "data": {
      "image/png": "[encoded data removed]",
      "text/plain": [
       "<Figure size 504x360 with 1 Axes>"
      ]
     },
     "execution_count": 14,
     "metadata": {},
     "output_type": "execute_result"
    }
   ],
   "source": [
    "sim = Aer.get_backend('aer_simulator')\n",
    "shots = 20000\n",
    "qc_new_R_trans = transpile(qc_new_R, sim)\n",
    "counts_new_R = sim.run(qc_new_R_trans, shots=shots).result().get_counts()\n",
    "plot_histogram(counts_new_R)"
   ]
  },
  {
   "cell_type": "markdown",
   "metadata": {},
   "source": [
    "The new R we took is 4, which is the square root of 16, and as we can see the output is the same, and expected to show same results till this threshold."
   ]
  },
  {
   "cell_type": "markdown",
   "metadata": {},
   "source": [
    "<h2 style=\"font-size:24px;\">Part 3: Grover circuit on Noisy Quantum System</h2>\n",
    "\n",
    "<br>\n",
    "<div style=\"background: #E8E7EB; border-radius: 5px;\n",
    "-moz-border-radius: 5px;\">\n",
    "  <p style=\"background: #800080;\n",
    "            border-radius: 5px 5px 0px 0px;\n",
    "            padding: 10px 0px 10px 10px;\n",
    "            font-size:18px;\n",
    "            color:white;\n",
    "            \"><b>Goal</b></p>\n",
    "    <p style=\" padding: 0px 0px 10px 10px;\n",
    "              font-size:16px;\">Execute the Grover circuit, that we built in Part 2 on a real quantum systems.</p>\n",
    "</div>\n",
    "\n",
    "In Part 3, we run the circuit `qc_final` that we set up in Part 2 to find the solutions to the search problem on a real quantum system. Since the present day quantum computers are noisy, the answer from it will not be the same as the simulation result that we obtained in Part 2. We examine how noise affects the outcome and discuss the possible sources of the error."
   ]
  },
  {
   "cell_type": "markdown",
   "metadata": {},
   "source": [
    "<h4 style=\"font-size: 17px\">&#128211;Step A. Load your account, set your provider and choose a backend. </h4>"
   ]
  },
  {
   "cell_type": "code",
   "execution_count": 16,
   "metadata": {
    "tags": [
     "uses-hardware"
    ]
   },
   "outputs": [],
   "source": [
    "## your code goes here\n",
    "IBMQ.load_account()\n",
    "provider = IBMQ.get_provider(hub='ibm-q-ncsu', group='nc-state', project='grad-qc-class')\n",
    "backend = provider.get_backend('ibmq_mumbai')"
   ]
  },
  {
   "cell_type": "markdown",
   "metadata": {},
   "source": [
    "<h4 style=\"font-size: 17px\">&#128211;Step B. Execute the circuit on the backend. </h4>"
   ]
  },
  {
   "cell_type": "code",
   "execution_count": null,
   "metadata": {
    "tags": [
     "uses-hardware"
    ]
   },
   "outputs": [],
   "source": [
    "shots = 8192\n",
    "## Your code goes here\n",
    "q_job = execute(qc_final_trans, backend, shots=shots)"
   ]
  },
  {
   "cell_type": "code",
   "execution_count": null,
   "metadata": {},
   "outputs": [],
   "source": [
    "job_monitor(q_job)"
   ]
  },
  {
   "cell_type": "code",
   "execution_count": 17,
   "metadata": {},
   "outputs": [],
   "source": [
    "job_prev = backend.retrieve_job('636e2e9e10cc19184b755b80')\n",
    "counts_prev = job_prev.result().get_counts()"
   ]
  },
  {
   "cell_type": "code",
   "execution_count": 18,
   "metadata": {},
   "outputs": [
    {
     "data": {
      "image/png": "[encoded data removed]",
      "text/plain": [
       "<Figure size 504x360 with 1 Axes>"
      ]
     },
     "execution_count": 18,
     "metadata": {},
     "output_type": "execute_result"
    }
   ],
   "source": [
    "plot_histogram(counts_prev)"
   ]
  },
  {
   "cell_type": "code",
   "execution_count": null,
   "metadata": {},
   "outputs": [],
   "source": [
    "counts_2 = q_job.result().get_counts()\n",
    "plot_histogram(counts_2)"
   ]
  },
  {
   "cell_type": "markdown",
   "metadata": {},
   "source": [
    "<h4 style=\"font-size: 17px\">&#128211;Step D. Plot the histogram of the result from the selected backend together with the simulation result. Compute the fidelity of the result from the real quantum system to compare with the simulation one.</h4>"
   ]
  },
  {
   "cell_type": "markdown",
   "metadata": {},
   "source": [
    "Check [Hellinger fidelity](https://qiskit.org/documentation/stubs/qiskit.quantum_info.hellinger_fidelity.html#qiskit.quantum_info.hellinger_fidelity).Think about why some of the solutions are affected by noise more than others."
   ]
  },
  {
   "cell_type": "code",
   "execution_count": 20,
   "metadata": {
    "tags": [
     "uses-hardware"
    ]
   },
   "outputs": [
    {
     "name": "stdout",
     "output_type": "stream",
     "text": [
      "Hellinger fidelity:  0.5281526682059015\n"
     ]
    }
   ],
   "source": [
    "## Your code goes here\n",
    "\n",
    "#visually compare and comment\n",
    "\n",
    "#this looks like it is 52% closer to the original count we achieved\n",
    "\n",
    "print(\"Hellinger fidelity: \", hellinger_fidelity(count, counts_prev))\n"
   ]
  }
 ],
 "metadata": {
  "kernelspec": {
   "display_name": "Python 3 (ipykernel)",
   "language": "python",
   "name": "python3"
  },
  "language_info": {
   "codemirror_mode": {
    "name": "ipython",
    "version": 3
   },
   "file_extension": ".py",
   "mimetype": "text/x-python",
   "name": "python",
   "nbconvert_exporter": "python",
   "pygments_lexer": "ipython3",
   "version": "3.9.12"
  },
  "widgets": {
   "application/vnd.jupyter.widget-state+json": {
    "state": {},
    "version_major": 2,
    "version_minor": 0
   }
  }
 },
 "nbformat": 4,
 "nbformat_minor": 4
}
